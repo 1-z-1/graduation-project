{
 "cells": [
  {
   "cell_type": "code",
   "execution_count": 6,
   "id": "01e1062b",
   "metadata": {},
   "outputs": [],
   "source": [
    "import os\n",
    "from operator import mod\n",
    "from torch import optim\n",
    "import torch.nn as nn\n",
    "import torch.nn.functional as func\n",
    "import pandas as pd\n",
    "import torch\n",
    "import torch.utils.data as td\n",
    "import numpy as np"
   ]
  },
  {
   "cell_type": "code",
   "execution_count": 2,
   "id": "9469e9a8",
   "metadata": {},
   "outputs": [],
   "source": [
    "os.chdir('C:/Users/24238/Desktop/毕业设计/毕业论文代码')\n",
    "# 构建模型\n",
    "class MyModel(nn.Module):\n",
    "    def __init__(self):\n",
    "        super().__init__()\n",
    "        self.Linear1 = nn.Linear(17,32,bias=True) # 第一隐藏层\n",
    "        self.Linear2 = nn.Linear(32,1) # 输出层\n",
    "        \n",
    "\n",
    "    def forward(self,x):\n",
    "        x = func.tanh(self.Linear1(x))\n",
    "        x = func.sigmoid(self.Linear2(x))\n",
    "        return x\n"
   ]
  },
  {
   "cell_type": "code",
   "execution_count": 12,
   "id": "5c374e56",
   "metadata": {},
   "outputs": [],
   "source": [
    "#数据准备\n",
    "data = pd.read_excel('LogisticData.xlsx')\n",
    "yResAll = data['RESULT']\n",
    "xData = torch.tensor(np.array(data.drop(['date','RESULT'],axis=1)),dtype=torch.float32)\n",
    "yRes = torch.tensor(np.array(data['RESULT']),dtype=torch.float32)\n",
    "dataloaderx = td.DataLoader(xData)\n",
    "dataloadery = td.DataLoader(yRes)"
   ]
  },
  {
   "cell_type": "code",
   "execution_count": 9,
   "id": "8d893270",
   "metadata": {},
   "outputs": [],
   "source": [
    "model = MyModel()\n",
    "# Loss函数\n",
    "lossFunc = nn.BCELoss()\n",
    "# 优化过程\n",
    "optimizer = optim.SGD(model.parameters(),lr = 0.1)\n",
    "yPreAll = []"
   ]
  },
  {
   "cell_type": "code",
   "execution_count": null,
   "id": "da2eec1e",
   "metadata": {},
   "outputs": [],
   "source": [
    "for epoch in range(100):\n",
    "    for x,y in zip(dataloaderx, dataloadery):\n",
    "    # forward\n",
    "    yPre = model(x)\n",
    "    yPreAll.append(yPre)\n",
    "    loss = lossFunc(yPre.squeeze(-1),yRes)\n",
    "    #梯度清零，不然torch会一直加\n",
    "    optimizer.zero_grad()\n",
    "    #反向传播\n",
    "    loss.backward()\n",
    "    #参数调整\n",
    "    optimizer.step()\n",
    "    if epoch % 2 == 0:\n",
    "        for i in yPreAll:\n",
    "            if i > 0.5:\n",
    "                i=1\n",
    "            else:\n",
    "                i=0\n",
    "        acc = yPreAll.sum()-y\n",
    "        print('epoch: {}, loss: {}'.format(epoch, loss.data.item()),'accuracy:{}'.format(acc))"
   ]
  }
 ],
 "metadata": {
  "kernelspec": {
   "display_name": "Python 3 (ipykernel)",
   "language": "python",
   "name": "python3"
  },
  "language_info": {
   "codemirror_mode": {
    "name": "ipython",
    "version": 3
   },
   "file_extension": ".py",
   "mimetype": "text/x-python",
   "name": "python",
   "nbconvert_exporter": "python",
   "pygments_lexer": "ipython3",
   "version": "3.9.10"
  }
 },
 "nbformat": 4,
 "nbformat_minor": 5
}
